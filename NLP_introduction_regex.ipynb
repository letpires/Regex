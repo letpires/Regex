{
  "nbformat": 4,
  "nbformat_minor": 0,
  "metadata": {
    "colab": {
      "name": "NLP_introduction_regex.ipynb",
      "provenance": [],
      "authorship_tag": "ABX9TyNX5FJXIyu+tt1wZSs1dQTx",
      "include_colab_link": true
    },
    "kernelspec": {
      "name": "python3",
      "display_name": "Python 3"
    },
    "language_info": {
      "name": "python"
    }
  },
  "cells": [
    {
      "cell_type": "markdown",
      "metadata": {
        "id": "view-in-github",
        "colab_type": "text"
      },
      "source": [
        "<a href=\"https://colab.research.google.com/github/letpires/Regex/blob/main/NLP_introduction_regex.ipynb\" target=\"_parent\"><img src=\"https://colab.research.google.com/assets/colab-badge.svg\" alt=\"Open In Colab\"/></a>"
      ]
    },
    {
      "cell_type": "code",
      "metadata": {
        "colab": {
          "base_uri": "https://localhost:8080/",
          "height": 204
        },
        "id": "EGXX--p2d-Xb",
        "outputId": "380318d1-d54c-4378-ad45-fb51fcad56fe"
      },
      "source": [
        "import pandas as pd\n",
        "dados_portugues = pd.read_csv(\"https://raw.githubusercontent.com/letpires/Regex/main/stackoverflow_portugues.csv\")\n",
        "dados_portugues.head()"
      ],
      "execution_count": 1,
      "outputs": [
        {
          "output_type": "execute_result",
          "data": {
            "text/html": [
              "<div>\n",
              "<style scoped>\n",
              "    .dataframe tbody tr th:only-of-type {\n",
              "        vertical-align: middle;\n",
              "    }\n",
              "\n",
              "    .dataframe tbody tr th {\n",
              "        vertical-align: top;\n",
              "    }\n",
              "\n",
              "    .dataframe thead th {\n",
              "        text-align: right;\n",
              "    }\n",
              "</style>\n",
              "<table border=\"1\" class=\"dataframe\">\n",
              "  <thead>\n",
              "    <tr style=\"text-align: right;\">\n",
              "      <th></th>\n",
              "      <th>Id</th>\n",
              "      <th>Título</th>\n",
              "      <th>Questão</th>\n",
              "      <th>Tags</th>\n",
              "      <th>Pontuação</th>\n",
              "      <th>Visualizações</th>\n",
              "    </tr>\n",
              "  </thead>\n",
              "  <tbody>\n",
              "    <tr>\n",
              "      <th>0</th>\n",
              "      <td>2402</td>\n",
              "      <td>Como fazer hash de senhas de forma segura?</td>\n",
              "      <td>&lt;p&gt;Se eu fizer o &lt;em&gt;&lt;a href=\"http://pt.wikipe...</td>\n",
              "      <td>&lt;hash&gt;&lt;segurança&gt;&lt;senhas&gt;&lt;criptografia&gt;</td>\n",
              "      <td>350</td>\n",
              "      <td>22367</td>\n",
              "    </tr>\n",
              "    <tr>\n",
              "      <th>1</th>\n",
              "      <td>6441</td>\n",
              "      <td>Qual é a diferença entre INNER JOIN e OUTER JOIN?</td>\n",
              "      <td>&lt;p&gt;Qual é a diferença entre &lt;code&gt;INNER JOIN&lt;/...</td>\n",
              "      <td>&lt;sql&gt;&lt;join&gt;</td>\n",
              "      <td>276</td>\n",
              "      <td>176953</td>\n",
              "    </tr>\n",
              "    <tr>\n",
              "      <th>2</th>\n",
              "      <td>579</td>\n",
              "      <td>Por que não devemos usar funções do tipo mysql_*?</td>\n",
              "      <td>&lt;p&gt;Uma dúvida muito comum é por que devemos pa...</td>\n",
              "      <td>&lt;php&gt;&lt;mysql&gt;</td>\n",
              "      <td>226</td>\n",
              "      <td>9761</td>\n",
              "    </tr>\n",
              "    <tr>\n",
              "      <th>3</th>\n",
              "      <td>2539</td>\n",
              "      <td>As mensagens de erro devem se desculpar?</td>\n",
              "      <td>&lt;p&gt;É comum encontrar uma mensagem de erro que ...</td>\n",
              "      <td>&lt;aplicação-web&gt;&lt;gui&gt;&lt;console&gt;&lt;ux&gt;</td>\n",
              "      <td>214</td>\n",
              "      <td>5075</td>\n",
              "    </tr>\n",
              "    <tr>\n",
              "      <th>4</th>\n",
              "      <td>17501</td>\n",
              "      <td>Qual é a diferença de API, biblioteca e Framew...</td>\n",
              "      <td>&lt;p&gt;Me parecem termos muito próximos e eventual...</td>\n",
              "      <td>&lt;api&gt;&lt;framework&gt;&lt;terminologia&gt;&lt;biblioteca&gt;</td>\n",
              "      <td>193</td>\n",
              "      <td>54191</td>\n",
              "    </tr>\n",
              "  </tbody>\n",
              "</table>\n",
              "</div>"
            ],
            "text/plain": [
              "      Id  ... Visualizações\n",
              "0   2402  ...         22367\n",
              "1   6441  ...        176953\n",
              "2    579  ...          9761\n",
              "3   2539  ...          5075\n",
              "4  17501  ...         54191\n",
              "\n",
              "[5 rows x 6 columns]"
            ]
          },
          "metadata": {},
          "execution_count": 1
        }
      ]
    },
    {
      "cell_type": "code",
      "metadata": {
        "colab": {
          "base_uri": "https://localhost:8080/"
        },
        "id": "wszVMuWJftKE",
        "outputId": "0464489c-83ad-4a2d-89ab-a3ae59126a24"
      },
      "source": [
        "questao_portugues = dados_portugues.Questão[5]\n",
        "print(questao_portugues)"
      ],
      "execution_count": 2,
      "outputs": [
        {
          "output_type": "stream",
          "name": "stdout",
          "text": [
            "<p>Desenvolvi uma página em PHP para uso interno da empresa que trabalho e apenas pouquíssimas pessoas a utilizam. Através dessa página é possível fazer algumas consultas, inserções, alterações e remoções de dados de uma tabela em um banco de dados MySQL, porém eu acredito que meu código em PHP não está protegido contra injeção de código SQL, por exemplo:</p>\n",
            "\n",
            "<pre><code>//----CONSULTA SQL----//\n",
            "$busca = mysql_query ('insert into Produtos (coluna) values(' . $valor . ')');\n",
            "</code></pre>\n",
            "\n",
            "<p>Logo, digamos que o usuário usar a sentença: <code>1); DROP TABLE Produtos;</code> para ao campo <code>valor</code> o comando ficaria: </p>\n",
            "\n",
            "<pre><code>insert into Produtos (coluna) values(1); DROP TABLE Produtos;\n",
            "</code></pre>\n",
            "\n",
            "<p>Ele vai inserir um novo registro cujo o campo <code>coluna</code> será <code>1</code> e logo em seguida ele vai deletar a tabela Produtos.</p>\n",
            "\n",
            "<p>Como posso melhorar meu código para prevenir essa situação?</p>\n",
            "\n"
          ]
        }
      ]
    },
    {
      "cell_type": "code",
      "metadata": {
        "colab": {
          "base_uri": "https://localhost:8080/",
          "height": 204
        },
        "id": "7B_CkYh4f9dJ",
        "outputId": "0e698108-283e-4b98-9d88-be393297d4e3"
      },
      "source": [
        "dados_ingles = pd.read_csv(\"https://raw.githubusercontent.com/letpires/Regex/main/stackoverflow_ingles.csv\")\n",
        "dados_ingles.head()"
      ],
      "execution_count": 3,
      "outputs": [
        {
          "output_type": "execute_result",
          "data": {
            "text/html": [
              "<div>\n",
              "<style scoped>\n",
              "    .dataframe tbody tr th:only-of-type {\n",
              "        vertical-align: middle;\n",
              "    }\n",
              "\n",
              "    .dataframe tbody tr th {\n",
              "        vertical-align: top;\n",
              "    }\n",
              "\n",
              "    .dataframe thead th {\n",
              "        text-align: right;\n",
              "    }\n",
              "</style>\n",
              "<table border=\"1\" class=\"dataframe\">\n",
              "  <thead>\n",
              "    <tr style=\"text-align: right;\">\n",
              "      <th></th>\n",
              "      <th>Id</th>\n",
              "      <th>Título</th>\n",
              "      <th>Questão</th>\n",
              "      <th>Tags</th>\n",
              "      <th>Pontuação</th>\n",
              "      <th>Visualizações</th>\n",
              "    </tr>\n",
              "  </thead>\n",
              "  <tbody>\n",
              "    <tr>\n",
              "      <th>0</th>\n",
              "      <td>11227809</td>\n",
              "      <td>Why is it faster to process a sorted array tha...</td>\n",
              "      <td>&lt;p&gt;Here is a piece of C++ code that seems very...</td>\n",
              "      <td>&lt;java&gt;&lt;c++&gt;&lt;performance&gt;&lt;optimization&gt;&lt;branch-...</td>\n",
              "      <td>23057</td>\n",
              "      <td>1358574</td>\n",
              "    </tr>\n",
              "    <tr>\n",
              "      <th>1</th>\n",
              "      <td>927358</td>\n",
              "      <td>How do I undo the most recent local commits in...</td>\n",
              "      <td>&lt;p&gt;I accidentally committed the wrong files to...</td>\n",
              "      <td>&lt;git&gt;&lt;version-control&gt;&lt;git-commit&gt;&lt;undo&gt;</td>\n",
              "      <td>19640</td>\n",
              "      <td>7906137</td>\n",
              "    </tr>\n",
              "    <tr>\n",
              "      <th>2</th>\n",
              "      <td>2003505</td>\n",
              "      <td>How do I delete a Git branch locally and remot...</td>\n",
              "      <td>&lt;p&gt;I want to delete a branch both locally and ...</td>\n",
              "      <td>&lt;git&gt;&lt;git-branch&gt;&lt;git-remote&gt;</td>\n",
              "      <td>15249</td>\n",
              "      <td>6940906</td>\n",
              "    </tr>\n",
              "    <tr>\n",
              "      <th>3</th>\n",
              "      <td>292357</td>\n",
              "      <td>What is the difference between 'git pull' and ...</td>\n",
              "      <td>&lt;blockquote&gt;\\n  &lt;p&gt;&lt;strong&gt;Moderator Note:&lt;/st...</td>\n",
              "      <td>&lt;git&gt;&lt;git-pull&gt;&lt;git-fetch&gt;</td>\n",
              "      <td>11008</td>\n",
              "      <td>2543052</td>\n",
              "    </tr>\n",
              "    <tr>\n",
              "      <th>4</th>\n",
              "      <td>477816</td>\n",
              "      <td>What is the correct JSON content type?</td>\n",
              "      <td>&lt;p&gt;I've been messing around with &lt;a href=\"http...</td>\n",
              "      <td>&lt;json&gt;&lt;http-headers&gt;&lt;content-type&gt;</td>\n",
              "      <td>9701</td>\n",
              "      <td>2478940</td>\n",
              "    </tr>\n",
              "  </tbody>\n",
              "</table>\n",
              "</div>"
            ],
            "text/plain": [
              "         Id  ... Visualizações\n",
              "0  11227809  ...       1358574\n",
              "1    927358  ...       7906137\n",
              "2   2003505  ...       6940906\n",
              "3    292357  ...       2543052\n",
              "4    477816  ...       2478940\n",
              "\n",
              "[5 rows x 6 columns]"
            ]
          },
          "metadata": {},
          "execution_count": 3
        }
      ]
    },
    {
      "cell_type": "code",
      "metadata": {
        "colab": {
          "base_uri": "https://localhost:8080/"
        },
        "id": "IaupAWNhgD0U",
        "outputId": "882e1ec2-ef46-471a-b82f-0bf397908172"
      },
      "source": [
        "questao_ingles = dados_ingles.Questão[0]\n",
        "print(questao_ingles)"
      ],
      "execution_count": 4,
      "outputs": [
        {
          "output_type": "stream",
          "name": "stdout",
          "text": [
            "<p>Here is a piece of C++ code that seems very peculiar. For some strange reason, sorting the data miraculously makes the code almost six times faster.</p>\n",
            "\n",
            "<pre class=\"lang-cpp prettyprint-override\"><code>#include &lt;algorithm&gt;\n",
            "#include &lt;ctime&gt;\n",
            "#include &lt;iostream&gt;\n",
            "\n",
            "int main()\n",
            "{\n",
            "    // Generate data\n",
            "    const unsigned arraySize = 32768;\n",
            "    int data[arraySize];\n",
            "\n",
            "    for (unsigned c = 0; c &lt; arraySize; ++c)\n",
            "        data[c] = std::rand() % 256;\n",
            "\n",
            "    // !!! With this, the next loop runs faster\n",
            "    std::sort(data, data + arraySize);\n",
            "\n",
            "    // Test\n",
            "    clock_t start = clock();\n",
            "    long long sum = 0;\n",
            "\n",
            "    for (unsigned i = 0; i &lt; 100000; ++i)\n",
            "    {\n",
            "        // Primary loop\n",
            "        for (unsigned c = 0; c &lt; arraySize; ++c)\n",
            "        {\n",
            "            if (data[c] &gt;= 128)\n",
            "                sum += data[c];\n",
            "        }\n",
            "    }\n",
            "\n",
            "    double elapsedTime = static_cast&lt;double&gt;(clock() - start) / CLOCKS_PER_SEC;\n",
            "\n",
            "    std::cout &lt;&lt; elapsedTime &lt;&lt; std::endl;\n",
            "    std::cout &lt;&lt; \"sum = \" &lt;&lt; sum &lt;&lt; std::endl;\n",
            "}\n",
            "</code></pre>\n",
            "\n",
            "<ul>\n",
            "<li>Without <code>std::sort(data, data + arraySize);</code>, the code runs in 11.54 seconds.</li>\n",
            "<li>With the sorted data, the code runs in 1.93 seconds.</li>\n",
            "</ul>\n",
            "\n",
            "<p>Initially, I thought this might be just a language or compiler anomaly. So I tried it in Java.</p>\n",
            "\n",
            "<pre class=\"lang-java prettyprint-override\"><code>import java.util.Arrays;\n",
            "import java.util.Random;\n",
            "\n",
            "public class Main\n",
            "{\n",
            "    public static void main(String[] args)\n",
            "    {\n",
            "        // Generate data\n",
            "        int arraySize = 32768;\n",
            "        int data[] = new int[arraySize];\n",
            "\n",
            "        Random rnd = new Random(0);\n",
            "        for (int c = 0; c &lt; arraySize; ++c)\n",
            "            data[c] = rnd.nextInt() % 256;\n",
            "\n",
            "        // !!! With this, the next loop runs faster\n",
            "        Arrays.sort(data);\n",
            "\n",
            "        // Test\n",
            "        long start = System.nanoTime();\n",
            "        long sum = 0;\n",
            "\n",
            "        for (int i = 0; i &lt; 100000; ++i)\n",
            "        {\n",
            "            // Primary loop\n",
            "            for (int c = 0; c &lt; arraySize; ++c)\n",
            "            {\n",
            "                if (data[c] &gt;= 128)\n",
            "                    sum += data[c];\n",
            "            }\n",
            "        }\n",
            "\n",
            "        System.out.println((System.nanoTime() - start) / 1000000000.0);\n",
            "        System.out.println(\"sum = \" + sum);\n",
            "    }\n",
            "}\n",
            "</code></pre>\n",
            "\n",
            "<p>With a somewhat similar but less extreme result.</p>\n",
            "\n",
            "<hr>\n",
            "\n",
            "<p>My first thought was that sorting brings the data into the cache, but then I thought how silly that is because the array was just generated.</p>\n",
            "\n",
            "<ul>\n",
            "<li>What is going on?</li>\n",
            "<li>Why is it faster to process a sorted array than an unsorted array?</li>\n",
            "<li>The code is summing up some independent terms, and the order should not matter.</li>\n",
            "</ul>\n",
            "\n"
          ]
        }
      ]
    },
    {
      "cell_type": "code",
      "metadata": {
        "colab": {
          "base_uri": "https://localhost:8080/",
          "height": 204
        },
        "id": "fiA2CpfogIJh",
        "outputId": "00d54387-e4ad-4c7d-80d2-dc622b1d83c3"
      },
      "source": [
        "dados_espanhol = pd.read_csv(\"https://raw.githubusercontent.com/letpires/Regex/main/stackoverflow_espanhol.csv\")\n",
        "dados_espanhol.head()"
      ],
      "execution_count": 5,
      "outputs": [
        {
          "output_type": "execute_result",
          "data": {
            "text/html": [
              "<div>\n",
              "<style scoped>\n",
              "    .dataframe tbody tr th:only-of-type {\n",
              "        vertical-align: middle;\n",
              "    }\n",
              "\n",
              "    .dataframe tbody tr th {\n",
              "        vertical-align: top;\n",
              "    }\n",
              "\n",
              "    .dataframe thead th {\n",
              "        text-align: right;\n",
              "    }\n",
              "</style>\n",
              "<table border=\"1\" class=\"dataframe\">\n",
              "  <thead>\n",
              "    <tr style=\"text-align: right;\">\n",
              "      <th></th>\n",
              "      <th>Id</th>\n",
              "      <th>Título</th>\n",
              "      <th>Questão</th>\n",
              "      <th>Tags</th>\n",
              "      <th>Pontuação</th>\n",
              "      <th>Visualizações</th>\n",
              "    </tr>\n",
              "  </thead>\n",
              "  <tbody>\n",
              "    <tr>\n",
              "      <th>0</th>\n",
              "      <td>18232</td>\n",
              "      <td>¿Cómo evitar la inyección SQL en PHP?</td>\n",
              "      <td>&lt;p&gt;Las sentencias dinámicas son sentencias SQL...</td>\n",
              "      <td>&lt;php&gt;&lt;mysql&gt;&lt;sql&gt;&lt;seguridad&gt;&lt;inyección-sql&gt;</td>\n",
              "      <td>169</td>\n",
              "      <td>38614</td>\n",
              "    </tr>\n",
              "    <tr>\n",
              "      <th>1</th>\n",
              "      <td>197</td>\n",
              "      <td>¿Por qué mis programas no pueden hacer cálculo...</td>\n",
              "      <td>&lt;p&gt;Unas veces los cálculos funcionan correctam...</td>\n",
              "      <td>&lt;matemáticas&gt;&lt;coma-flotante&gt;&lt;lenguaje-agnóstico&gt;</td>\n",
              "      <td>141</td>\n",
              "      <td>3860</td>\n",
              "    </tr>\n",
              "    <tr>\n",
              "      <th>2</th>\n",
              "      <td>36</td>\n",
              "      <td>¿Cuál es la diferencia entre un inner y un out...</td>\n",
              "      <td>&lt;p&gt;¿Cuál es la diferencia entre un &lt;code&gt;inner...</td>\n",
              "      <td>&lt;mysql&gt;&lt;sql&gt;&lt;join&gt;</td>\n",
              "      <td>97</td>\n",
              "      <td>53627</td>\n",
              "    </tr>\n",
              "    <tr>\n",
              "      <th>3</th>\n",
              "      <td>29177</td>\n",
              "      <td>¿Por qué es considerado una mala práctica util...</td>\n",
              "      <td>&lt;p&gt;La mayoría de nosotros decimos, (muchas vec...</td>\n",
              "      <td>&lt;variables&gt;&lt;variables-globales&gt;&lt;patrones-de-di...</td>\n",
              "      <td>89</td>\n",
              "      <td>9987</td>\n",
              "    </tr>\n",
              "    <tr>\n",
              "      <th>4</th>\n",
              "      <td>142</td>\n",
              "      <td>Validar un email en JavaScript que acepte todo...</td>\n",
              "      <td>&lt;h3&gt;Pregunta&lt;/h3&gt;\\n\\n&lt;p&gt;¿Cómo validar un e-mai...</td>\n",
              "      <td>&lt;javascript&gt;&lt;validación&gt;&lt;email&gt;&lt;regex&gt;</td>\n",
              "      <td>87</td>\n",
              "      <td>73129</td>\n",
              "    </tr>\n",
              "  </tbody>\n",
              "</table>\n",
              "</div>"
            ],
            "text/plain": [
              "      Id  ... Visualizações\n",
              "0  18232  ...         38614\n",
              "1    197  ...          3860\n",
              "2     36  ...         53627\n",
              "3  29177  ...          9987\n",
              "4    142  ...         73129\n",
              "\n",
              "[5 rows x 6 columns]"
            ]
          },
          "metadata": {},
          "execution_count": 5
        }
      ]
    },
    {
      "cell_type": "code",
      "metadata": {
        "colab": {
          "base_uri": "https://localhost:8080/"
        },
        "id": "u5qqpELsgIL3",
        "outputId": "c720de2d-2bed-40e4-c6c7-7497f5b4d511"
      },
      "source": [
        "questao_espanhol = dados_espanhol.Questão[0]\n",
        "print(questao_espanhol)"
      ],
      "execution_count": 6,
      "outputs": [
        {
          "output_type": "stream",
          "name": "stdout",
          "text": [
            "<p>Las sentencias dinámicas son sentencias SQL que se crean como cadenas de texto (strings) y en las que se insertan/concatenan valores obtenidos de alguna fuente (normalmente proveniente del usuario), lo que puede hacer que sean vulnerables a inyección SQL si no se sanean las entradas, como por ejemplo:</p>\n",
            "\n",
            "<pre><code>$id_usuario = $_POST[\"id\"];\n",
            "\n",
            "mysql_query(\"SELECT * FROM usuarios WHERE id = $id_usuario\");\n",
            "</code></pre>\n",
            "\n",
            "<p>Eso es un ejemplo de una vulnerabilidad grave en la seguridad de una aplicación (web o no) porque si el usuario introdujese un valor como <code>1; DROP TABLE usuarios;--</code> nos encontraríamos con que la sentencia ejecutada sería:</p>\n",
            "\n",
            "<pre><code>SELECT * FROM usuarios WHERE id = 1; DROP TABLE usuarios;--\n",
            "</code></pre>\n",
            "\n",
            "<p>Y se eliminaría la tabla Usuarios con todos los datos contenidos en ella. </p>\n",
            "\n",
            "<p><strong>¿Cómo puedo evitar que la inyección SQL ocurra en PHP?</strong></p>\n",
            "\n"
          ]
        }
      ]
    },
    {
      "cell_type": "code",
      "metadata": {
        "colab": {
          "base_uri": "https://localhost:8080/"
        },
        "id": "NseNRI0hgIOX",
        "outputId": "61ffaab4-6b8e-49a8-ce75-5f07b94a2847"
      },
      "source": [
        "'''A primeira função que quero mostrar para vocês é o re.findall. \n",
        "Essa função retorna uma lista com todos os padrões detectados por aquela \n",
        "expressão regular. Nós passamos para ela dois parâmetros. O primeiro é a \n",
        "expressão regular, e o segundo o texto.'''\n",
        "\n",
        "#. representa qualquer caracter dentro dos <>. \n",
        "#* esse caractere se repete\n",
        "# . somente para quando tem uma quebra de linha. Então eu passo a ? pra ele parar quando tiver o >\n",
        "\n",
        "import re\n",
        "re.findall(r\"<.*?>\",questao_portugues)"
      ],
      "execution_count": 10,
      "outputs": [
        {
          "output_type": "execute_result",
          "data": {
            "text/plain": [
              "['<p>',\n",
              " '</p>',\n",
              " '<pre>',\n",
              " '<code>',\n",
              " '</code>',\n",
              " '</pre>',\n",
              " '<p>',\n",
              " '<code>',\n",
              " '</code>',\n",
              " '<code>',\n",
              " '</code>',\n",
              " '</p>',\n",
              " '<pre>',\n",
              " '<code>',\n",
              " '</code>',\n",
              " '</pre>',\n",
              " '<p>',\n",
              " '<code>',\n",
              " '</code>',\n",
              " '<code>',\n",
              " '</code>',\n",
              " '</p>',\n",
              " '<p>',\n",
              " '</p>']"
            ]
          },
          "metadata": {},
          "execution_count": 10
        }
      ]
    },
    {
      "cell_type": "code",
      "metadata": {
        "colab": {
          "base_uri": "https://localhost:8080/"
        },
        "id": "ccpI9PazgIQw",
        "outputId": "5a1f3e7e-dc7a-44fa-a61e-e39eb3ebc715"
      },
      "source": [
        "print(r\"\\n\")"
      ],
      "execution_count": 7,
      "outputs": [
        {
          "output_type": "stream",
          "name": "stdout",
          "text": [
            "\\n\n"
          ]
        }
      ]
    },
    {
      "cell_type": "code",
      "metadata": {
        "colab": {
          "base_uri": "https://localhost:8080/"
        },
        "id": "QqijQskyiKpa",
        "outputId": "5444b665-edef-4ee7-f5c2-24f68a1ce9bd"
      },
      "source": [
        "print(\"\\n\")"
      ],
      "execution_count": 8,
      "outputs": [
        {
          "output_type": "stream",
          "name": "stdout",
          "text": [
            "\n",
            "\n"
          ]
        }
      ]
    },
    {
      "cell_type": "code",
      "metadata": {
        "colab": {
          "base_uri": "https://localhost:8080/"
        },
        "id": "X3KrmZMkiMIM",
        "outputId": "e0dd9d50-ecf8-4906-ee27-568512ab3781"
      },
      "source": [
        "texto_teste = re.sub(r\"<.*?>\",\"  T----E----S----T----E  \",questao_portugues)\n",
        "print(texto_teste)"
      ],
      "execution_count": 11,
      "outputs": [
        {
          "output_type": "stream",
          "name": "stdout",
          "text": [
            "  T----E----S----T----E  Desenvolvi uma página em PHP para uso interno da empresa que trabalho e apenas pouquíssimas pessoas a utilizam. Através dessa página é possível fazer algumas consultas, inserções, alterações e remoções de dados de uma tabela em um banco de dados MySQL, porém eu acredito que meu código em PHP não está protegido contra injeção de código SQL, por exemplo:  T----E----S----T----E  \n",
            "\n",
            "  T----E----S----T----E    T----E----S----T----E  //----CONSULTA SQL----//\n",
            "$busca = mysql_query ('insert into Produtos (coluna) values(' . $valor . ')');\n",
            "  T----E----S----T----E    T----E----S----T----E  \n",
            "\n",
            "  T----E----S----T----E  Logo, digamos que o usuário usar a sentença:   T----E----S----T----E  1); DROP TABLE Produtos;  T----E----S----T----E   para ao campo   T----E----S----T----E  valor  T----E----S----T----E   o comando ficaria:   T----E----S----T----E  \n",
            "\n",
            "  T----E----S----T----E    T----E----S----T----E  insert into Produtos (coluna) values(1); DROP TABLE Produtos;\n",
            "  T----E----S----T----E    T----E----S----T----E  \n",
            "\n",
            "  T----E----S----T----E  Ele vai inserir um novo registro cujo o campo   T----E----S----T----E  coluna  T----E----S----T----E   será   T----E----S----T----E  1  T----E----S----T----E   e logo em seguida ele vai deletar a tabela Produtos.  T----E----S----T----E  \n",
            "\n",
            "  T----E----S----T----E  Como posso melhorar meu código para prevenir essa situação?  T----E----S----T----E  \n",
            "\n"
          ]
        }
      ]
    },
    {
      "cell_type": "code",
      "metadata": {
        "colab": {
          "base_uri": "https://localhost:8080/"
        },
        "id": "O8bzsHWfmln4",
        "outputId": "a81bea44-cfd9-4a4e-813c-978dd2a48845"
      },
      "source": [
        "#Lê uma string e transforma em uma regex. Passa a posição em que encontrou.\n",
        "re.search(r\"70\",\"18728736187263817628631872638716283670\")"
      ],
      "execution_count": 12,
      "outputs": [
        {
          "output_type": "execute_result",
          "data": {
            "text/plain": [
              "<re.Match object; span=(36, 38), match='70'>"
            ]
          },
          "metadata": {},
          "execution_count": 12
        }
      ]
    },
    {
      "cell_type": "code",
      "metadata": {
        "id": "OcNyYPsbmqCl"
      },
      "source": [
        "regex = re.compile(r\"70\")"
      ],
      "execution_count": 13,
      "outputs": []
    },
    {
      "cell_type": "code",
      "metadata": {
        "colab": {
          "base_uri": "https://localhost:8080/"
        },
        "id": "vF6_3Iv3nh7N",
        "outputId": "ef30cf49-cdd1-4886-fe7a-c10cd2540ca2"
      },
      "source": [
        "regex.search(\"18728736187263817628631872638716283670\")"
      ],
      "execution_count": 14,
      "outputs": [
        {
          "output_type": "execute_result",
          "data": {
            "text/plain": [
              "<re.Match object; span=(36, 38), match='70'>"
            ]
          },
          "metadata": {},
          "execution_count": 14
        }
      ]
    },
    {
      "cell_type": "code",
      "metadata": {
        "id": "mI0mDP57nl-n"
      },
      "source": [
        "from timeit import timeit"
      ],
      "execution_count": 16,
      "outputs": []
    },
    {
      "cell_type": "code",
      "metadata": {
        "colab": {
          "base_uri": "https://localhost:8080/"
        },
        "id": "SVUoI-E_n3zY",
        "outputId": "d3c9086e-a0ce-43ab-915d-ba8896b78f72"
      },
      "source": [
        "setup = \"\"\"import re\"\"\"\n",
        "timeit(\"\"\"re.search(r\"70\",\"18728736187263817628631872638716283670\")\"\"\",\n",
        "      setup)"
      ],
      "execution_count": 19,
      "outputs": [
        {
          "output_type": "execute_result",
          "data": {
            "text/plain": [
              "0.8976104729999861"
            ]
          },
          "metadata": {},
          "execution_count": 19
        }
      ]
    },
    {
      "cell_type": "code",
      "metadata": {
        "colab": {
          "base_uri": "https://localhost:8080/"
        },
        "id": "LmDeUBVnoYit",
        "outputId": "d54901e0-0663-4f6b-e692-7b3ff5e85ae1"
      },
      "source": [
        "setup = \"\"\"import re\n",
        "regex = re.compile(r\"70\")\"\"\"\n",
        "\n",
        "timeit(\"\"\"regex.search(\"18728736187263817628631872638716283670\")\"\"\",\n",
        "      setup)"
      ],
      "execution_count": 20,
      "outputs": [
        {
          "output_type": "execute_result",
          "data": {
            "text/plain": [
              "0.21104445400033"
            ]
          },
          "metadata": {},
          "execution_count": 20
        }
      ]
    }
  ]
}