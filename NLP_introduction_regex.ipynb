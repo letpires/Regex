{
  "nbformat": 4,
  "nbformat_minor": 0,
  "metadata": {
    "colab": {
      "name": "NLP_introduction_regex.ipynb",
      "provenance": [],
      "authorship_tag": "ABX9TyPIVitafMwneavlrsjijZ+O",
      "include_colab_link": true
    },
    "kernelspec": {
      "name": "python3",
      "display_name": "Python 3"
    },
    "language_info": {
      "name": "python"
    }
  },
  "cells": [
    {
      "cell_type": "markdown",
      "metadata": {
        "id": "view-in-github",
        "colab_type": "text"
      },
      "source": [
        "<a href=\"https://colab.research.google.com/github/letpires/Regex/blob/main/NLP_introduction_regex.ipynb\" target=\"_parent\"><img src=\"https://colab.research.google.com/assets/colab-badge.svg\" alt=\"Open In Colab\"/></a>"
      ]
    },
    {
      "cell_type": "code",
      "metadata": {
        "colab": {
          "base_uri": "https://localhost:8080/",
          "height": 204
        },
        "id": "EGXX--p2d-Xb",
        "outputId": "380318d1-d54c-4378-ad45-fb51fcad56fe"
      },
      "source": [
        "import pandas as pd\n",
        "dados_portugues = pd.read_csv(\"https://raw.githubusercontent.com/letpires/Regex/main/stackoverflow_portugues.csv\")\n",
        "dados_portugues.head()"
      ],
      "execution_count": 1,
      "outputs": [
        {
          "output_type": "execute_result",
          "data": {
            "text/html": [
              "<div>\n",
              "<style scoped>\n",
              "    .dataframe tbody tr th:only-of-type {\n",
              "        vertical-align: middle;\n",
              "    }\n",
              "\n",
              "    .dataframe tbody tr th {\n",
              "        vertical-align: top;\n",
              "    }\n",
              "\n",
              "    .dataframe thead th {\n",
              "        text-align: right;\n",
              "    }\n",
              "</style>\n",
              "<table border=\"1\" class=\"dataframe\">\n",
              "  <thead>\n",
              "    <tr style=\"text-align: right;\">\n",
              "      <th></th>\n",
              "      <th>Id</th>\n",
              "      <th>Título</th>\n",
              "      <th>Questão</th>\n",
              "      <th>Tags</th>\n",
              "      <th>Pontuação</th>\n",
              "      <th>Visualizações</th>\n",
              "    </tr>\n",
              "  </thead>\n",
              "  <tbody>\n",
              "    <tr>\n",
              "      <th>0</th>\n",
              "      <td>2402</td>\n",
              "      <td>Como fazer hash de senhas de forma segura?</td>\n",
              "      <td>&lt;p&gt;Se eu fizer o &lt;em&gt;&lt;a href=\"http://pt.wikipe...</td>\n",
              "      <td>&lt;hash&gt;&lt;segurança&gt;&lt;senhas&gt;&lt;criptografia&gt;</td>\n",
              "      <td>350</td>\n",
              "      <td>22367</td>\n",
              "    </tr>\n",
              "    <tr>\n",
              "      <th>1</th>\n",
              "      <td>6441</td>\n",
              "      <td>Qual é a diferença entre INNER JOIN e OUTER JOIN?</td>\n",
              "      <td>&lt;p&gt;Qual é a diferença entre &lt;code&gt;INNER JOIN&lt;/...</td>\n",
              "      <td>&lt;sql&gt;&lt;join&gt;</td>\n",
              "      <td>276</td>\n",
              "      <td>176953</td>\n",
              "    </tr>\n",
              "    <tr>\n",
              "      <th>2</th>\n",
              "      <td>579</td>\n",
              "      <td>Por que não devemos usar funções do tipo mysql_*?</td>\n",
              "      <td>&lt;p&gt;Uma dúvida muito comum é por que devemos pa...</td>\n",
              "      <td>&lt;php&gt;&lt;mysql&gt;</td>\n",
              "      <td>226</td>\n",
              "      <td>9761</td>\n",
              "    </tr>\n",
              "    <tr>\n",
              "      <th>3</th>\n",
              "      <td>2539</td>\n",
              "      <td>As mensagens de erro devem se desculpar?</td>\n",
              "      <td>&lt;p&gt;É comum encontrar uma mensagem de erro que ...</td>\n",
              "      <td>&lt;aplicação-web&gt;&lt;gui&gt;&lt;console&gt;&lt;ux&gt;</td>\n",
              "      <td>214</td>\n",
              "      <td>5075</td>\n",
              "    </tr>\n",
              "    <tr>\n",
              "      <th>4</th>\n",
              "      <td>17501</td>\n",
              "      <td>Qual é a diferença de API, biblioteca e Framew...</td>\n",
              "      <td>&lt;p&gt;Me parecem termos muito próximos e eventual...</td>\n",
              "      <td>&lt;api&gt;&lt;framework&gt;&lt;terminologia&gt;&lt;biblioteca&gt;</td>\n",
              "      <td>193</td>\n",
              "      <td>54191</td>\n",
              "    </tr>\n",
              "  </tbody>\n",
              "</table>\n",
              "</div>"
            ],
            "text/plain": [
              "      Id  ... Visualizações\n",
              "0   2402  ...         22367\n",
              "1   6441  ...        176953\n",
              "2    579  ...          9761\n",
              "3   2539  ...          5075\n",
              "4  17501  ...         54191\n",
              "\n",
              "[5 rows x 6 columns]"
            ]
          },
          "metadata": {},
          "execution_count": 1
        }
      ]
    }
  ]
}